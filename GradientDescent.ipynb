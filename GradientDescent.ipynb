{
 "cells": [
  {
   "cell_type": "code",
   "execution_count": 6,
   "id": "2989d485-9b19-4b78-ab15-7a947143511c",
   "metadata": {},
   "outputs": [],
   "source": [
    "import numpy as np\n",
    "import pandas as pd"
   ]
  },
  {
   "cell_type": "code",
   "execution_count": 7,
   "id": "101bf037-ff4b-41a8-b33c-55bb774ad33e",
   "metadata": {},
   "outputs": [],
   "source": [
    "x = np.array([1, 2, 3, 4, 5])\n",
    "y = np.array([5, 7, 9, 11, 13])"
   ]
  },
  {
   "cell_type": "code",
   "execution_count": 8,
   "id": "6a53918a-5bb1-4ac6-a577-42048c2c67c9",
   "metadata": {},
   "outputs": [
    {
     "name": "stdout",
     "output_type": "stream",
     "text": [
      "m 4.96, b 1.44, cost 89.0 iteration 0\n",
      "m 0.4991999999999983, b 0.26879999999999993, cost 71.10560000000002 iteration 1\n",
      "m 4.451584000000002, b 1.426176000000001, cost 56.8297702400001 iteration 2\n",
      "m 0.892231679999997, b 0.5012275199999995, cost 45.43965675929613 iteration 3\n",
      "m 4.041314713600002, b 1.432759910400001, cost 36.35088701894832 iteration 4\n",
      "m 1.2008760606719973, b 0.7036872622079998, cost 29.097483330142282 iteration 5\n",
      "m 3.7095643080294423, b 1.4546767911321612, cost 23.307872849944438 iteration 6\n",
      "m 1.4424862661541864, b 0.881337636696883, cost 18.685758762535738 iteration 7\n",
      "m 3.4406683721083144, b 1.4879302070713722, cost 14.994867596913156 iteration 8\n",
      "m 1.6308855378034224, b 1.0383405553279617, cost 12.046787238456794 iteration 9\n"
     ]
    }
   ],
   "source": [
    "iteration = 10\n",
    "m_curr = b_curr = 0\n",
    "n = len(x)\n",
    "learning_rate = 0.08\n",
    "for i in range(iteration):\n",
    "    y_predicted = m_curr * x + b_curr\n",
    "    cost = (1/n) * sum(val ** 2 for val in (y-y_predicted))\n",
    "    md = -(2/n) * sum(x*(y-y_predicted))\n",
    "    bd = -(2/n) * sum(y-y_predicted)\n",
    "    m_curr = m_curr - learning_rate * md\n",
    "    b_curr = b_curr - learning_rate * bd\n",
    "    print(\"m {}, b {}, cost {} iteration {}\".format(m_curr, b_curr, cost,  i))"
   ]
  },
  {
   "cell_type": "code",
   "execution_count": 9,
   "id": "cd1e381e-8bb8-4d8e-933d-c4a38b059dc3",
   "metadata": {},
   "outputs": [
    {
     "data": {
      "text/html": [
       "<div>\n",
       "<style scoped>\n",
       "    .dataframe tbody tr th:only-of-type {\n",
       "        vertical-align: middle;\n",
       "    }\n",
       "\n",
       "    .dataframe tbody tr th {\n",
       "        vertical-align: top;\n",
       "    }\n",
       "\n",
       "    .dataframe thead th {\n",
       "        text-align: right;\n",
       "    }\n",
       "</style>\n",
       "<table border=\"1\" class=\"dataframe\">\n",
       "  <thead>\n",
       "    <tr style=\"text-align: right;\">\n",
       "      <th></th>\n",
       "      <th>name</th>\n",
       "      <th>math</th>\n",
       "      <th>cs</th>\n",
       "    </tr>\n",
       "  </thead>\n",
       "  <tbody>\n",
       "    <tr>\n",
       "      <th>0</th>\n",
       "      <td>david</td>\n",
       "      <td>92</td>\n",
       "      <td>98</td>\n",
       "    </tr>\n",
       "    <tr>\n",
       "      <th>1</th>\n",
       "      <td>laura</td>\n",
       "      <td>56</td>\n",
       "      <td>68</td>\n",
       "    </tr>\n",
       "    <tr>\n",
       "      <th>2</th>\n",
       "      <td>sanjay</td>\n",
       "      <td>88</td>\n",
       "      <td>81</td>\n",
       "    </tr>\n",
       "    <tr>\n",
       "      <th>3</th>\n",
       "      <td>wei</td>\n",
       "      <td>70</td>\n",
       "      <td>80</td>\n",
       "    </tr>\n",
       "    <tr>\n",
       "      <th>4</th>\n",
       "      <td>jeff</td>\n",
       "      <td>80</td>\n",
       "      <td>83</td>\n",
       "    </tr>\n",
       "    <tr>\n",
       "      <th>5</th>\n",
       "      <td>aamir</td>\n",
       "      <td>49</td>\n",
       "      <td>52</td>\n",
       "    </tr>\n",
       "    <tr>\n",
       "      <th>6</th>\n",
       "      <td>venkat</td>\n",
       "      <td>65</td>\n",
       "      <td>66</td>\n",
       "    </tr>\n",
       "    <tr>\n",
       "      <th>7</th>\n",
       "      <td>virat</td>\n",
       "      <td>35</td>\n",
       "      <td>30</td>\n",
       "    </tr>\n",
       "    <tr>\n",
       "      <th>8</th>\n",
       "      <td>arthur</td>\n",
       "      <td>66</td>\n",
       "      <td>68</td>\n",
       "    </tr>\n",
       "    <tr>\n",
       "      <th>9</th>\n",
       "      <td>paul</td>\n",
       "      <td>67</td>\n",
       "      <td>73</td>\n",
       "    </tr>\n",
       "  </tbody>\n",
       "</table>\n",
       "</div>"
      ],
      "text/plain": [
       "     name  math  cs\n",
       "0   david    92  98\n",
       "1   laura    56  68\n",
       "2  sanjay    88  81\n",
       "3     wei    70  80\n",
       "4    jeff    80  83\n",
       "5   aamir    49  52\n",
       "6  venkat    65  66\n",
       "7   virat    35  30\n",
       "8  arthur    66  68\n",
       "9    paul    67  73"
      ]
     },
     "execution_count": 9,
     "metadata": {},
     "output_type": "execute_result"
    }
   ],
   "source": [
    "df = pd.read_csv(\"C:\\\\Users\\\\Pranav Mahesh\\\\Downloads\\\\test_scores.csv\")\n",
    "df"
   ]
  },
  {
   "cell_type": "code",
   "execution_count": 40,
   "id": "38d7368f-681a-4a5e-a160-daf58719b8e7",
   "metadata": {},
   "outputs": [
    {
     "name": "stdout",
     "output_type": "stream",
     "text": [
      "m 1.9783600000000003, b 0.027960000000000002, cost 5199.1 iteration 0\n",
      "m 0.20975041279999962, b 0.0030470367999999894, cost 4161.482445460163 iteration 1\n",
      "m 1.7908456142986242, b 0.025401286955264, cost 3332.2237319269248 iteration 2\n",
      "m 0.37738163667530467, b 0.005499731626422651, cost 2669.4843523161976 iteration 3\n",
      "m 1.6409848166378898, b 0.023373894401807944, cost 2139.826383775145 iteration 4\n",
      "m 0.5113514173939655, b 0.0074774305434828076, cost 1716.5264071567592 iteration 5\n",
      "m 1.5212165764726306, b 0.021771129698498662, cost 1378.2272007804495 iteration 6\n",
      "m 0.6184191426785134, b 0.009075514323270572, cost 1107.8601808918404 iteration 7\n",
      "m 1.4254981563597626, b 0.020507724625171385, cost 891.7842215178443 iteration 8\n",
      "m 0.7039868810749315, b 0.010370210797388455, cost 719.0974036421305 iteration 9\n"
     ]
    }
   ],
   "source": [
    "x = np.array(df.math)\n",
    "y = np.array(df.cs)\n",
    "n = len(x)\n",
    "m_curr = b_curr = 0\n",
    "iterations = 10\n",
    "learning_rate = 0.0002\n",
    "for i in range(iterations):\n",
    "    y_predicted = m_curr * x + b_curr\n",
    "    md = -(2/n) * sum(x*(y-y_predicted))\n",
    "    bd = -(2/n) * sum(y-y_predicted)\n",
    "    m_curr = m_curr - learning_rate * md\n",
    "    b_curr = b_curr - learning_rate * bd\n",
    "    cost = (1/n) * sum(val ** 2 for val in (y-y_predicted))\n",
    "    if cost <= 1e-20:\n",
    "        break;\n",
    "    print(\"m {}, b {}, cost {} iteration {}\".format(m_curr, b_curr, cost,  i))"
   ]
  },
  {
   "cell_type": "code",
   "execution_count": null,
   "id": "ab113bfa-1a8a-4a72-9aa4-2d67daacaeeb",
   "metadata": {},
   "outputs": [],
   "source": []
  }
 ],
 "metadata": {
  "kernelspec": {
   "display_name": "Python 3 (ipykernel)",
   "language": "python",
   "name": "python3"
  },
  "language_info": {
   "codemirror_mode": {
    "name": "ipython",
    "version": 3
   },
   "file_extension": ".py",
   "mimetype": "text/x-python",
   "name": "python",
   "nbconvert_exporter": "python",
   "pygments_lexer": "ipython3",
   "version": "3.11.5"
  }
 },
 "nbformat": 4,
 "nbformat_minor": 5
}
