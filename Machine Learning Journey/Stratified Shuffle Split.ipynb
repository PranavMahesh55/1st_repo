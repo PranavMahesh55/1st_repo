{
 "cells": [
  {
   "cell_type": "code",
   "execution_count": 5,
   "id": "934ca496-f3ac-4e94-a5c4-c0c36b4ec46c",
   "metadata": {
    "tags": []
   },
   "outputs": [
    {
     "data": {
      "text/plain": [
       "dict_keys(['data', 'target', 'frame', 'target_names', 'DESCR', 'feature_names', 'filename', 'data_module'])"
      ]
     },
     "execution_count": 5,
     "metadata": {},
     "output_type": "execute_result"
    }
   ],
   "source": [
    "from sklearn.datasets import load_iris\n",
    "\n",
    "irisData = load_iris()\n",
    "irisData.keys()"
   ]
  },
  {
   "cell_type": "code",
   "execution_count": 19,
   "id": "29009cf8-99e9-41de-8b2e-b06492246c7e",
   "metadata": {
    "tags": []
   },
   "outputs": [],
   "source": [
    "X = irisData['data']\n",
    "y = irisData['target']"
   ]
  },
  {
   "cell_type": "code",
   "execution_count": 20,
   "id": "8300a46f-9ef1-4452-8194-3401938bead9",
   "metadata": {
    "tags": []
   },
   "outputs": [],
   "source": [
    "import pandas as pd\n",
    "import numpy as np\n",
    "\n",
    "dfData = pd.DataFrame(np.c_[X, y], columns = irisData['feature_names']+['target'])"
   ]
  },
  {
   "cell_type": "code",
   "execution_count": 17,
   "id": "a339a039-bec0-40bf-b382-56336dca0dcb",
   "metadata": {
    "tags": []
   },
   "outputs": [],
   "source": [
    "from sklearn.model_selection import StratifiedShuffleSplit\n",
    "\n",
    "stratSplit = StratifiedShuffleSplit(n_splits=1, test_size=0.2, random_state=1)\n",
    "\n",
    "for train_split, test_split in stratSplit.split(X, y):\n",
    "    #X_train, y_train = X[train_split], y[train_split]\n",
    "    #X_test, y_test = X[test_split], y[test_split]\n",
    "    X_train, X_test = X[train_split], X[test_split]\n",
    "    y_train, y_test = y[train_split], y[test_split]"
   ]
  },
  {
   "cell_type": "code",
   "execution_count": 23,
   "id": "71b40a51-8ee9-42eb-ade9-80215ae806ee",
   "metadata": {
    "tags": []
   },
   "outputs": [],
   "source": [
    "for train_split, test_split in stratSplit.split(dfData[irisData['feature_names']], dfData['target']):\n",
    "    X_train = dfData[irisData['feature_names']].iloc[train_split]\n",
    "    y_train = dfData['target'].iloc[train_split]\n",
    "    X_test = dfData[irisData['feature_names']].iloc[test_split]\n",
    "    y_test = dfData['target'].iloc[test_split]"
   ]
  },
  {
   "cell_type": "code",
   "execution_count": null,
   "id": "df795d6b-1a99-4b02-aa0e-0ee2f29ae20d",
   "metadata": {},
   "outputs": [],
   "source": []
  }
 ],
 "metadata": {
  "kernelspec": {
   "display_name": "Python 3 (ipykernel)",
   "language": "python",
   "name": "python3"
  },
  "language_info": {
   "codemirror_mode": {
    "name": "ipython",
    "version": 3
   },
   "file_extension": ".py",
   "mimetype": "text/x-python",
   "name": "python",
   "nbconvert_exporter": "python",
   "pygments_lexer": "ipython3",
   "version": "3.11.5"
  }
 },
 "nbformat": 4,
 "nbformat_minor": 5
}
