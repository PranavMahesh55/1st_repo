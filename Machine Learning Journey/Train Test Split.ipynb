{
 "cells": [
  {
   "cell_type": "code",
   "execution_count": 1,
   "id": "46c726ff-604e-4255-b850-a74a483e6b28",
   "metadata": {},
   "outputs": [],
   "source": [
    "#Train test splitting\n",
    "#Numpy array vs pd dataframe"
   ]
  },
  {
   "cell_type": "code",
   "execution_count": 4,
   "id": "bed9e778-0ba9-4da3-bab8-3a66bf70df3a",
   "metadata": {
    "tags": []
   },
   "outputs": [
    {
     "data": {
      "text/plain": [
       "dict_keys(['data', 'target', 'frame', 'target_names', 'DESCR', 'feature_names', 'filename', 'data_module'])"
      ]
     },
     "execution_count": 4,
     "metadata": {},
     "output_type": "execute_result"
    }
   ],
   "source": [
    "from sklearn.datasets import load_iris\n",
    "\n",
    "irisData = load_iris()\n",
    "irisData.keys()"
   ]
  },
  {
   "cell_type": "code",
   "execution_count": 5,
   "id": "60b7e60a-4b0e-41ec-8553-2042b57abcd0",
   "metadata": {
    "tags": []
   },
   "outputs": [],
   "source": [
    "from sklearn.model_selection import train_test_split\n",
    "X, y = irisData['data'], irisData['target']\n",
    "X_train, X_test, y_train, y_test = train_test_split(X, y, test_size=0.2, random_state=0)"
   ]
  },
  {
   "cell_type": "code",
   "execution_count": 17,
   "id": "c6954ccb-c4fe-436b-9a5d-4fd0d7bafa42",
   "metadata": {
    "tags": []
   },
   "outputs": [],
   "source": [
    "import pandas as pd\n",
    "import numpy as np\n",
    "\n",
    "dfData = pd.DataFrame(np.c_[irisData['data'], irisData['target']],columns = irisData['feature_names']+['target'])\n",
    "X_train, X_test, y_train, y_test = train_test_split(dfData[irisData['feature_names']],\n",
    "                                                   dfData['target'],\n",
    "                                                   test_size = 0.2,\n",
    "                                                   random_state=1)"
   ]
  }
 ],
 "metadata": {
  "kernelspec": {
   "display_name": "Python 3 (ipykernel)",
   "language": "python",
   "name": "python3"
  },
  "language_info": {
   "codemirror_mode": {
    "name": "ipython",
    "version": 3
   },
   "file_extension": ".py",
   "mimetype": "text/x-python",
   "name": "python",
   "nbconvert_exporter": "python",
   "pygments_lexer": "ipython3",
   "version": "3.11.5"
  }
 },
 "nbformat": 4,
 "nbformat_minor": 5
}
