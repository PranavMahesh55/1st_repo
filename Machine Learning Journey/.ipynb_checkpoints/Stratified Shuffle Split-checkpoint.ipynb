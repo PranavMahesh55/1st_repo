{
 "cells": [
  {
   "cell_type": "code",
   "execution_count": 5,
   "id": "934ca496-f3ac-4e94-a5c4-c0c36b4ec46c",
   "metadata": {
    "tags": []
   },
   "outputs": [
    {
     "data": {
      "text/plain": [
       "dict_keys(['data', 'target', 'frame', 'target_names', 'DESCR', 'feature_names', 'filename', 'data_module'])"
      ]
     },
     "execution_count": 5,
     "metadata": {},
     "output_type": "execute_result"
    }
   ],
   "source": [
    "from sklearn.datasets import load_iris\n",
    "\n",
    "irisData = load_iris()\n",
    "irisData.keys()"
   ]
  },
  {
   "cell_type": "code",
   "execution_count": 6,
   "id": "29009cf8-99e9-41de-8b2e-b06492246c7e",
   "metadata": {
    "tags": []
   },
   "outputs": [],
   "source": [
    "X = irisData['data']\n",
    "y = irisData['target']"
   ]
  },
  {
   "cell_type": "code",
   "execution_count": 9,
   "id": "a339a039-bec0-40bf-b382-56336dca0dcb",
   "metadata": {
    "tags": []
   },
   "outputs": [],
   "source": [
    "from sklearn.model_selection import StratifiedShuffleSplit\n",
    "\n",
    "stratSplit = StratifiedShuffleSplit(n_splits=1, test_size=0.2, random_state=1)\n",
    "\n",
    "for train_split, test_split in stratSplit.split(X, y):\n",
    "    X_train, y_train = X[train_split], y[train_split]\n",
    "    X_test, y_test = X[test_split], y[test_split]"
   ]
  },
  {
   "cell_type": "code",
   "execution_count": 14,
   "id": "d7fa505d-5857-455b-8023-85bbc10eb1a8",
   "metadata": {
    "tags": []
   },
   "outputs": [
    {
     "data": {
      "text/plain": [
       "(120,)"
      ]
     },
     "execution_count": 14,
     "metadata": {},
     "output_type": "execute_result"
    }
   ],
   "source": [
    "y_train.shape"
   ]
  },
  {
   "cell_type": "code",
   "execution_count": null,
   "id": "29126e15-6ab3-4bd8-830b-0e9e9915b669",
   "metadata": {},
   "outputs": [],
   "source": []
  }
 ],
 "metadata": {
  "kernelspec": {
   "display_name": "Python 3 (ipykernel)",
   "language": "python",
   "name": "python3"
  },
  "language_info": {
   "codemirror_mode": {
    "name": "ipython",
    "version": 3
   },
   "file_extension": ".py",
   "mimetype": "text/x-python",
   "name": "python",
   "nbconvert_exporter": "python",
   "pygments_lexer": "ipython3",
   "version": "3.11.5"
  }
 },
 "nbformat": 4,
 "nbformat_minor": 5
}
